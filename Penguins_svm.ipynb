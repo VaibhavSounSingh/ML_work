{
 "cells": [
  {
   "cell_type": "code",
   "execution_count": 25,
   "id": "60c4d9bf",
   "metadata": {},
   "outputs": [
    {
     "data": {
      "text/html": [
       "<div>\n",
       "<style scoped>\n",
       "    .dataframe tbody tr th:only-of-type {\n",
       "        vertical-align: middle;\n",
       "    }\n",
       "\n",
       "    .dataframe tbody tr th {\n",
       "        vertical-align: top;\n",
       "    }\n",
       "\n",
       "    .dataframe thead th {\n",
       "        text-align: right;\n",
       "    }\n",
       "</style>\n",
       "<table border=\"1\" class=\"dataframe\">\n",
       "  <thead>\n",
       "    <tr style=\"text-align: right;\">\n",
       "      <th></th>\n",
       "      <th>Unnamed: 0</th>\n",
       "      <th>species</th>\n",
       "      <th>island</th>\n",
       "      <th>bill_length_mm</th>\n",
       "      <th>bill_depth_mm</th>\n",
       "      <th>flipper_length_mm</th>\n",
       "      <th>body_mass_g</th>\n",
       "      <th>sex</th>\n",
       "      <th>year</th>\n",
       "    </tr>\n",
       "  </thead>\n",
       "  <tbody>\n",
       "    <tr>\n",
       "      <th>0</th>\n",
       "      <td>1</td>\n",
       "      <td>Adelie</td>\n",
       "      <td>Torgersen</td>\n",
       "      <td>39.1</td>\n",
       "      <td>18.7</td>\n",
       "      <td>181.0</td>\n",
       "      <td>3750.0</td>\n",
       "      <td>male</td>\n",
       "      <td>2007</td>\n",
       "    </tr>\n",
       "    <tr>\n",
       "      <th>1</th>\n",
       "      <td>2</td>\n",
       "      <td>Adelie</td>\n",
       "      <td>Torgersen</td>\n",
       "      <td>39.5</td>\n",
       "      <td>17.4</td>\n",
       "      <td>186.0</td>\n",
       "      <td>3800.0</td>\n",
       "      <td>female</td>\n",
       "      <td>2007</td>\n",
       "    </tr>\n",
       "    <tr>\n",
       "      <th>2</th>\n",
       "      <td>3</td>\n",
       "      <td>Adelie</td>\n",
       "      <td>Torgersen</td>\n",
       "      <td>40.3</td>\n",
       "      <td>18.0</td>\n",
       "      <td>195.0</td>\n",
       "      <td>3250.0</td>\n",
       "      <td>female</td>\n",
       "      <td>2007</td>\n",
       "    </tr>\n",
       "    <tr>\n",
       "      <th>3</th>\n",
       "      <td>4</td>\n",
       "      <td>Adelie</td>\n",
       "      <td>Torgersen</td>\n",
       "      <td>3.1</td>\n",
       "      <td>3.1</td>\n",
       "      <td>3.1</td>\n",
       "      <td>3.1</td>\n",
       "      <td>3.1</td>\n",
       "      <td>2007</td>\n",
       "    </tr>\n",
       "    <tr>\n",
       "      <th>4</th>\n",
       "      <td>5</td>\n",
       "      <td>Adelie</td>\n",
       "      <td>Torgersen</td>\n",
       "      <td>36.7</td>\n",
       "      <td>19.3</td>\n",
       "      <td>193.0</td>\n",
       "      <td>3450.0</td>\n",
       "      <td>female</td>\n",
       "      <td>2007</td>\n",
       "    </tr>\n",
       "  </tbody>\n",
       "</table>\n",
       "</div>"
      ],
      "text/plain": [
       "   Unnamed: 0 species     island  bill_length_mm  bill_depth_mm  \\\n",
       "0           1  Adelie  Torgersen            39.1           18.7   \n",
       "1           2  Adelie  Torgersen            39.5           17.4   \n",
       "2           3  Adelie  Torgersen            40.3           18.0   \n",
       "3           4  Adelie  Torgersen             3.1            3.1   \n",
       "4           5  Adelie  Torgersen            36.7           19.3   \n",
       "\n",
       "   flipper_length_mm  body_mass_g     sex  year  \n",
       "0              181.0       3750.0    male  2007  \n",
       "1              186.0       3800.0  female  2007  \n",
       "2              195.0       3250.0  female  2007  \n",
       "3                3.1          3.1     3.1  2007  \n",
       "4              193.0       3450.0  female  2007  "
      ]
     },
     "execution_count": 25,
     "metadata": {},
     "output_type": "execute_result"
    }
   ],
   "source": [
    "import numpy as np \n",
    "import pandas as pd \n",
    "df=pd.read_csv(\"penguins.csv\")\n",
    "df.head()"
   ]
  },
  {
   "cell_type": "code",
   "execution_count": 26,
   "id": "a24884ea",
   "metadata": {},
   "outputs": [
    {
     "data": {
      "text/plain": [
       "array(['Torgersen', 'Biscoe', 'Dream'], dtype=object)"
      ]
     },
     "execution_count": 26,
     "metadata": {},
     "output_type": "execute_result"
    }
   ],
   "source": [
    "df['island'].unique()"
   ]
  },
  {
   "cell_type": "code",
   "execution_count": 27,
   "id": "a3cd13ed",
   "metadata": {},
   "outputs": [
    {
     "data": {
      "text/plain": [
       "array([39.1, 39.5, 40.3,  3.1, 36.7, 39.3, 38.9, 39.2, 34.1, 42. , 37.8,\n",
       "       41.1, 38.6, 34.6, 36.6, 38.7, 42.5, 34.4, 46. , 37.7, 35.9, 38.2,\n",
       "       38.8, 35.3, 40.6, 40.5, 37.9, 37.2, 40.9, 36.4, 42.2, 37.6, 39.8,\n",
       "       36.5, 40.8, 36. , 44.1, 37. , 39.6, 37.5, 42.3, 40.1, 35. , 34.5,\n",
       "       41.4, 39. , 35.7, 41.3, 41.6, 35.5, 41.8, 33.5, 39.7, 45.8, 42.8,\n",
       "       36.2, 42.1, 42.9, 35.1, 37.3, 36.3, 36.9, 38.3, 34. , 38.1, 33.1,\n",
       "       43.2, 41. , 45.6, 42.7, 40.2, 35.2, 41.5, 38.5, 43.1, 36.8, 35.6,\n",
       "       32.1, 40.7, 46.1, 50. , 48.7, 47.6, 46.5, 45.4, 46.7, 43.3, 46.8,\n",
       "       49. , 45.5, 48.4, 49.3, 49.2, 46.2, 50.2, 45.1, 46.3, 44.5, 47.8,\n",
       "       48.2, 47.3, 59.6, 49.1, 42.6, 44.4, 44. , 49.6, 45.3, 50.5, 43.6,\n",
       "       44.9, 45.2, 46.6, 48.5, 50.1, 45. , 43.8, 50.4, 45.7, 54.3, 49.8,\n",
       "       49.5, 43.5, 50.7, 47.7, 46.4, 48.6, 47.5, 51.1, 52.5, 47.4, 50.8,\n",
       "       43.4, 51.3, 52.1, 52.2, 49.4, 46.9, 55.9, 47.2, 41.7, 53.4, 48.1,\n",
       "       51.5, 55.1, 48.8, 49.9, 52.7, 51.7, 47. , 52. , 45.9, 50.3, 58. ,\n",
       "       42.4, 50.6, 52.8, 54.2, 51. , 49.7, 53.5, 50.9, 51.4, 51.9, 55.8])"
      ]
     },
     "execution_count": 27,
     "metadata": {},
     "output_type": "execute_result"
    }
   ],
   "source": [
    "df['bill_length_mm'].unique()"
   ]
  },
  {
   "cell_type": "code",
   "execution_count": 28,
   "id": "1857e22a",
   "metadata": {},
   "outputs": [],
   "source": [
    "from sklearn.preprocessing import LabelEncoder\n",
    "le=LabelEncoder()"
   ]
  },
  {
   "cell_type": "code",
   "execution_count": 29,
   "id": "1c5ad3be",
   "metadata": {},
   "outputs": [],
   "source": [
    "df['sex']=le.fit_transform(df['sex'])\n",
    "df['island']=le.fit_transform(df['island'])\n",
    "df['species']=le.fit_transform(df['species'])"
   ]
  },
  {
   "cell_type": "code",
   "execution_count": 30,
   "id": "1f9be921",
   "metadata": {},
   "outputs": [
    {
     "data": {
      "text/plain": [
       "array([2, 1, 0])"
      ]
     },
     "execution_count": 30,
     "metadata": {},
     "output_type": "execute_result"
    }
   ],
   "source": [
    "df['sex'].unique()"
   ]
  },
  {
   "cell_type": "code",
   "execution_count": 31,
   "id": "bb79ee33",
   "metadata": {},
   "outputs": [],
   "source": [
    "x1=df['island']\n",
    "x2=df['bill_length_mm']\n",
    "x3=df['bill_depth_mm']\n",
    "\n",
    "x=list(zip(x1,x2,x3))\n",
    "y=df['species']"
   ]
  },
  {
   "cell_type": "code",
   "execution_count": 35,
   "id": "09d4bf95",
   "metadata": {},
   "outputs": [],
   "source": [
    "from sklearn.model_selection import train_test_split\n",
    "x_train, x_test, y_train, y_test = train_test_split(x, y, test_size=0.8, random_state = 0)"
   ]
  },
  {
   "cell_type": "code",
   "execution_count": 36,
   "id": "39f7a607",
   "metadata": {},
   "outputs": [],
   "source": [
    "from sklearn.preprocessing import StandardScaler\n",
    "sc = StandardScaler()\n",
    "x_train = sc.fit_transform(x_train)\n",
    "x_test = sc.transform(x_test)\n",
    "\n"
   ]
  },
  {
   "cell_type": "code",
   "execution_count": 37,
   "id": "3a0de94e",
   "metadata": {},
   "outputs": [
    {
     "name": "stdout",
     "output_type": "stream",
     "text": [
      "SVM\n",
      "Accuracy of the model is:  98.55072463768117\n"
     ]
    }
   ],
   "source": [
    "from sklearn import metrics\n",
    "from sklearn.metrics import classification_report, accuracy_score\n",
    "from sklearn.svm import SVC\n",
    "clf1 = SVC(kernel='rbf')\n",
    "clf1.fit(x_train, y_train)\n",
    "y_pred1 = clf1.predict(x_test)\n",
    "acc1 = metrics.accuracy_score(y_test, y_pred1)*100\n",
    "\n",
    "print(\"SVM\")\n",
    "print(\"Accuracy of the model is: \", acc1)"
   ]
  },
  {
   "cell_type": "code",
   "execution_count": null,
   "id": "72daa5a3",
   "metadata": {},
   "outputs": [],
   "source": []
  },
  {
   "cell_type": "code",
   "execution_count": null,
   "id": "539a80fa",
   "metadata": {},
   "outputs": [],
   "source": [
    "\n",
    "\n",
    "\n",
    "\n",
    "\n"
   ]
  }
 ],
 "metadata": {
  "kernelspec": {
   "display_name": "Python 3 (ipykernel)",
   "language": "python",
   "name": "python3"
  },
  "language_info": {
   "codemirror_mode": {
    "name": "ipython",
    "version": 3
   },
   "file_extension": ".py",
   "mimetype": "text/x-python",
   "name": "python",
   "nbconvert_exporter": "python",
   "pygments_lexer": "ipython3",
   "version": "3.9.12"
  }
 },
 "nbformat": 4,
 "nbformat_minor": 5
}
